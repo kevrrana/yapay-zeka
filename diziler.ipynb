{
 "cells": [
  {
   "cell_type": "code",
   "execution_count": 24,
   "id": "9cef06aa-d869-4590-bb01-a5fef0c5814b",
   "metadata": {},
   "outputs": [],
   "source": [
    "import numpy as np # "
   ]
  },
  {
   "cell_type": "code",
   "execution_count": null,
   "id": "a4039783-d1c2-4cb5-b5ea-043e6ef9fb40",
   "metadata": {},
   "outputs": [],
   "source": []
  },
  {
   "cell_type": "code",
   "execution_count": 13,
   "id": "36e326be-524b-408a-8639-1486ee224c93",
   "metadata": {},
   "outputs": [
    {
     "data": {
      "text/plain": [
       "array([1, 2, 3])"
      ]
     },
     "execution_count": 13,
     "metadata": {},
     "output_type": "execute_result"
    }
   ],
   "source": [
    "np.array([1,2,3]) #"
   ]
  },
  {
   "cell_type": "code",
   "execution_count": 26,
   "id": "cd2cc864-8e43-4ab4-83d2-d61c8f5644d6",
   "metadata": {},
   "outputs": [],
   "source": [
    "a=np.array([1,2,3]) # Bir NumPy dizisini atama işlemi için kullanılır"
   ]
  },
  {
   "cell_type": "code",
   "execution_count": 17,
   "id": "821246f1-1308-4b42-b818-737e7c5740a8",
   "metadata": {},
   "outputs": [
    {
     "data": {
      "text/plain": [
       "array([1.  , 2.  , 3.  , 3.14])"
      ]
     },
     "execution_count": 17,
     "metadata": {},
     "output_type": "execute_result"
    }
   ],
   "source": [
    "dizi=np.array([1,2,3,3.14])\n",
    "dizi"
   ]
  },
  {
   "cell_type": "code",
   "execution_count": 28,
   "id": "82a028ed-4584-49b2-9191-fd57c9b5c8ec",
   "metadata": {},
   "outputs": [
    {
     "data": {
      "text/plain": [
       "array([1, 2, 3, 3])"
      ]
     },
     "execution_count": 28,
     "metadata": {},
     "output_type": "execute_result"
    }
   ],
   "source": [
    "dizi=np.array([1,2,3,3.14],dtype=int)\n",
    "dizi"
   ]
  },
  {
   "cell_type": "code",
   "execution_count": 30,
   "id": "fbe06785-70a2-493e-ae4a-9125ac70b447",
   "metadata": {},
   "outputs": [
    {
     "data": {
      "text/plain": [
       "array([1, 2, 3])"
      ]
     },
     "execution_count": 30,
     "metadata": {},
     "output_type": "execute_result"
    }
   ],
   "source": [
    "birboyut=np.array([1,2,3])  # bir boyutlu dizi oluşturur\n",
    "birboyut"
   ]
  },
  {
   "cell_type": "code",
   "execution_count": 32,
   "id": "db8f975a-b605-41f2-8357-395d56eb52f9",
   "metadata": {},
   "outputs": [
    {
     "data": {
      "text/plain": [
       "array([[1, 2, 3],\n",
       "       [4, 5, 6]])"
      ]
     },
     "execution_count": 32,
     "metadata": {},
     "output_type": "execute_result"
    }
   ],
   "source": [
    "ikiboyut = np.array([[1,2,3], [4,5,6]]) #: İki boyutlu dizi oluşturmak için kullanılır\n",
    "ikiboyut"
   ]
  },
  {
   "cell_type": "code",
   "execution_count": null,
   "id": "742edbd0-73fa-4104-ac89-3f1c75402f46",
   "metadata": {},
   "outputs": [],
   "source": []
  }
 ],
 "metadata": {
  "kernelspec": {
   "display_name": "Python 3 (ipykernel)",
   "language": "python",
   "name": "python3"
  },
  "language_info": {
   "codemirror_mode": {
    "name": "ipython",
    "version": 3
   },
   "file_extension": ".py",
   "mimetype": "text/x-python",
   "name": "python",
   "nbconvert_exporter": "python",
   "pygments_lexer": "ipython3",
   "version": "3.12.4"
  }
 },
 "nbformat": 4,
 "nbformat_minor": 5
}
