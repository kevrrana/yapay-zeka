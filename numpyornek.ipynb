{
 "cells": [
  {
   "cell_type": "code",
   "execution_count": 9,
   "id": "c125cc9f-5cf0-4974-bd38-ddb5baa3d19c",
   "metadata": {},
   "outputs": [],
   "source": [
    "import numpy as np #numpy küyüphanesini np takma adı ile projeye dahil ediyoruz"
   ]
  },
  {
   "cell_type": "code",
   "execution_count": 5,
   "id": "79d43aa2-741f-4ffe-9a97-1befb6e023fb",
   "metadata": {},
   "outputs": [
    {
     "data": {
      "text/plain": [
       "array([[5, 5, 5],\n",
       "       [5, 5, 5],\n",
       "       [5, 5, 5],\n",
       "       [5, 5, 5]])"
      ]
     },
     "execution_count": 5,
     "metadata": {},
     "output_type": "execute_result"
    }
   ],
   "source": [
    "dizi= np.full((4,3),5) #4(satır),3(sütün) ve 5 sayısıda içindeki sayıyı belirtir\n",
    "dizi"
   ]
  },
  {
   "cell_type": "code",
   "execution_count": 7,
   "id": "a5ef7b67-e492-49fb-aa8c-deb9717c399f",
   "metadata": {},
   "outputs": [
    {
     "data": {
      "text/plain": [
       "array([1, 2, 3])"
      ]
     },
     "execution_count": 7,
     "metadata": {},
     "output_type": "execute_result"
    }
   ],
   "source": [
    "#yeni bir numpy dizisi oluşturuyoruz\n",
    "np.array([1,2,3])"
   ]
  },
  {
   "cell_type": "code",
   "execution_count": 17,
   "id": "7a3e592a-bcf7-4cc4-851e-2fbf2fd2fd57",
   "metadata": {},
   "outputs": [],
   "source": [
    "#oluşturduğumuz diziyi bir değişkene aktırıyoruz\n",
    "dizi=np.array([\"elma\",\"erik\",\"iğne\"])"
   ]
  },
  {
   "cell_type": "code",
   "execution_count": 15,
   "id": "0eceb6f6-5e1e-43d7-a11d-8e6c63c81966",
   "metadata": {},
   "outputs": [
    {
     "data": {
      "text/plain": [
       "array(['elma', 'erik', 'iğne'], dtype='<U4')"
      ]
     },
     "execution_count": 15,
     "metadata": {},
     "output_type": "execute_result"
    }
   ],
   "source": [
    "dizi"
   ]
  },
  {
   "cell_type": "code",
   "execution_count": 19,
   "id": "caf4ae83-6fe3-44c6-8442-8c3570ae2ae8",
   "metadata": {},
   "outputs": [],
   "source": [
    "dizi=np.array([1,2,3])"
   ]
  },
  {
   "cell_type": "code",
   "execution_count": 21,
   "id": "5d56e19d-3929-4d7b-96db-2968cb5acaff",
   "metadata": {},
   "outputs": [],
   "source": [
    "dizi=np.array([1,2,3.14])"
   ]
  },
  {
   "cell_type": "code",
   "execution_count": 23,
   "id": "ab7da6ce-6059-4052-91c0-c37befef794f",
   "metadata": {},
   "outputs": [
    {
     "data": {
      "text/plain": [
       "dtype('float64')"
      ]
     },
     "execution_count": 23,
     "metadata": {},
     "output_type": "execute_result"
    }
   ],
   "source": [
    "dizi.dtype #dizinin değişken türünü verir. nupmy dizelerinde elemanların hepsi aynı türdendir"
   ]
  },
  {
   "cell_type": "code",
   "execution_count": 25,
   "id": "6271ffb3-78fe-4377-8782-c0299505f8b2",
   "metadata": {},
   "outputs": [],
   "source": [
    "dizi=np.array([1,23.14], dtype=int)"
   ]
  },
  {
   "cell_type": "markdown",
   "id": "649c1ea1-1490-4228-b917-23425013daf1",
   "metadata": {},
   "source": [
    "**Numpy ile farklı boyutlarda dizi oluşturma**"
   ]
  },
  {
   "cell_type": "code",
   "execution_count": 28,
   "id": "fa54fae2-2e51-4fd6-82f3-f7ce1c14a26c",
   "metadata": {},
   "outputs": [],
   "source": [
    "#bir boyutlu dizi oluşturma\n",
    "birboyut=np.array([1,2,3,4])\n",
    "#iki boyutlu dizi oluşturma\n",
    "ikiboyut=np.array([[1,2,3,4],[5,6,7,8],[9,10,11,12]])"
   ]
  },
  {
   "cell_type": "code",
   "execution_count": 30,
   "id": "87542206-2f38-43a1-b338-b919239c0d64",
   "metadata": {},
   "outputs": [
    {
     "data": {
      "text/plain": [
       "array([1, 2, 3, 4])"
      ]
     },
     "execution_count": 30,
     "metadata": {},
     "output_type": "execute_result"
    }
   ],
   "source": [
    "birboyut"
   ]
  },
  {
   "cell_type": "code",
   "execution_count": 32,
   "id": "c3e30e10-c406-42a8-ae9f-e8464ffaa9e0",
   "metadata": {},
   "outputs": [
    {
     "data": {
      "text/plain": [
       "array([[ 1,  2,  3,  4],\n",
       "       [ 5,  6,  7,  8],\n",
       "       [ 9, 10, 11, 12]])"
      ]
     },
     "execution_count": 32,
     "metadata": {},
     "output_type": "execute_result"
    }
   ],
   "source": [
    "ikiboyut"
   ]
  },
  {
   "cell_type": "markdown",
   "id": "b087735e-08db-4a39-9791-1ca538145e06",
   "metadata": {},
   "source": [
    "**Numpy Yer Tutucular**"
   ]
  },
  {
   "cell_type": "code",
   "execution_count": 35,
   "id": "62e04126-08b1-4ac3-889d-4c87107732b6",
   "metadata": {},
   "outputs": [
    {
     "data": {
      "text/plain": [
       "array([0., 0., 0., 0., 0., 0., 0.])"
      ]
     },
     "execution_count": 35,
     "metadata": {},
     "output_type": "execute_result"
    }
   ],
   "source": [
    "np.zeros(7) # 7 sıfırdan oluşan tek boyutlu dizi oluşturur"
   ]
  },
  {
   "cell_type": "code",
   "execution_count": 39,
   "id": "ce1fca01-2746-47d5-a21e-0716dc29c10d",
   "metadata": {},
   "outputs": [
    {
     "data": {
      "text/plain": [
       "array([[0, 0, 0],\n",
       "       [0, 0, 0]])"
      ]
     },
     "execution_count": 39,
     "metadata": {},
     "output_type": "execute_result"
    }
   ],
   "source": [
    "np.zeros((2,3), dtype=int) #* sıfırdan oluşan 2 boyutlu int dizi oluşturur"
   ]
  },
  {
   "cell_type": "code",
   "execution_count": 41,
   "id": "faa9fec6-e120-4033-8443-c800ca6858e9",
   "metadata": {},
   "outputs": [
    {
     "data": {
      "text/plain": [
       "array([1., 1., 1.])"
      ]
     },
     "execution_count": 41,
     "metadata": {},
     "output_type": "execute_result"
    }
   ],
   "source": [
    "np.ones(3)"
   ]
  },
  {
   "cell_type": "code",
   "execution_count": 43,
   "id": "24d03acd-08ce-40fd-b734-4fd930b0b070",
   "metadata": {},
   "outputs": [
    {
     "data": {
      "text/plain": [
       "array([[5, 5, 5],\n",
       "       [5, 5, 5],\n",
       "       [5, 5, 5],\n",
       "       [5, 5, 5]])"
      ]
     },
     "execution_count": 43,
     "metadata": {},
     "output_type": "execute_result"
    }
   ],
   "source": [
    "np.full((4,3),5)#5 sayısından oluşan2*3 lük dizi"
   ]
  },
  {
   "cell_type": "code",
   "execution_count": 45,
   "id": "f8b10fc2-c0af-4de1-aea4-f52b8b681130",
   "metadata": {},
   "outputs": [
    {
     "data": {
      "text/plain": [
       "array([ 2,  7, 12, 17])"
      ]
     },
     "execution_count": 45,
     "metadata": {},
     "output_type": "execute_result"
    }
   ],
   "source": [
    "np.arange(2,22,5) #5 sayısından oluşan 2*3 lük dizi"
   ]
  },
  {
   "cell_type": "code",
   "execution_count": 47,
   "id": "edefb171-61a9-446d-9bd2-0dac97d14af1",
   "metadata": {},
   "outputs": [
    {
     "data": {
      "text/plain": [
       "array([ 2.        ,  3.33333333,  4.66666667,  6.        ,  7.33333333,\n",
       "        8.66666667, 10.        ])"
      ]
     },
     "execution_count": 47,
     "metadata": {},
     "output_type": "execute_result"
    }
   ],
   "source": [
    "np.linspace(2,10,num=7) #başlangıç ve bitiş değeri aralığında belirtilen miktarda eşit aralık"
   ]
  },
  {
   "cell_type": "code",
   "execution_count": 49,
   "id": "9ca56dbf-3293-4268-9a34-e42948dc2e75",
   "metadata": {},
   "outputs": [
    {
     "data": {
      "text/plain": [
       "array([3, 6, 2, 5, 7])"
      ]
     },
     "execution_count": 49,
     "metadata": {},
     "output_type": "execute_result"
    }
   ],
   "source": [
    "np.random.randint(0,10,5) #0-10 aralığında rastgele sayıdan oluşan bir boyutlu dizi "
   ]
  },
  {
   "cell_type": "code",
   "execution_count": 53,
   "id": "2936a3a2-24ab-4b90-826f-dfb5c56a0aa0",
   "metadata": {},
   "outputs": [
    {
     "data": {
      "text/plain": [
       "array([[4, 1],\n",
       "       [9, 2],\n",
       "       [2, 4],\n",
       "       [9, 5],\n",
       "       [0, 5]])"
      ]
     },
     "execution_count": 53,
     "metadata": {},
     "output_type": "execute_result"
    }
   ],
   "source": [
    "np.random.randint(0,10,(5,2)) #0-10 aralığında 5*2 rastgele sayıdan oluşan 2 boyutlu dizi"
   ]
  },
  {
   "cell_type": "markdown",
   "id": "0ef998d4-dd3f-492d-85cf-2f9337481604",
   "metadata": {},
   "source": [
    "**Diziler ile ilgili işlemler**"
   ]
  },
  {
   "cell_type": "code",
   "execution_count": 58,
   "id": "ba645c15-7060-40b9-8198-8cb525269fc2",
   "metadata": {},
   "outputs": [
    {
     "data": {
      "text/plain": [
       "(3, 4)"
      ]
     },
     "execution_count": 58,
     "metadata": {},
     "output_type": "execute_result"
    }
   ],
   "source": [
    "#dizilerin elaman sayısını öğrenmek için shope komutu kullanır\n",
    "dizi=np.array([[1,2,3,4],[5,6,7,8],[9,10,11,12]])\n",
    "dizi.shape"
   ]
  },
  {
   "cell_type": "code",
   "execution_count": 62,
   "id": "7667b082-8322-4986-bcf2-ecab2e478c58",
   "metadata": {},
   "outputs": [
    {
     "data": {
      "text/plain": [
       "2"
      ]
     },
     "execution_count": 62,
     "metadata": {},
     "output_type": "execute_result"
    }
   ],
   "source": [
    "#ndim dizi boyutunu öğrenmek için shabe komutu kullanır\n",
    "dizi.ndim"
   ]
  },
  {
   "cell_type": "code",
   "execution_count": 64,
   "id": "c8d71eb5-4a62-4afa-ad8d-ac5de0ab3bec",
   "metadata": {},
   "outputs": [
    {
     "data": {
      "text/plain": [
       "12"
      ]
     },
     "execution_count": 64,
     "metadata": {},
     "output_type": "execute_result"
    }
   ],
   "source": [
    "#size dizidekş toplam eleman sayısını gösterir\n",
    "dizi.size"
   ]
  },
  {
   "cell_type": "code",
   "execution_count": 66,
   "id": "5633ba1f-15c0-4038-8093-3019e990500a",
   "metadata": {},
   "outputs": [
    {
     "data": {
      "text/plain": [
       "4"
      ]
     },
     "execution_count": 66,
     "metadata": {},
     "output_type": "execute_result"
    }
   ],
   "source": [
    "#dizideki her bir eleman bayt cinsinden değerini verir\n",
    "dizi.itemsize"
   ]
  },
  {
   "cell_type": "code",
   "execution_count": 77,
   "id": "9219e13a-c06a-480e-a584-5f507d9a6cd8",
   "metadata": {},
   "outputs": [
    {
     "data": {
      "text/plain": [
       "array([[89,  4, 97, 47, 58, 56, 49],\n",
       "       [39, 82, 93,  3, 52, 98, 67],\n",
       "       [46,  2, 23, 32, 59, 99, 42],\n",
       "       [85, 13, 68, 99, 37, 82, 24],\n",
       "       [92, 40, 59, 29, 44, 98, 62]])"
      ]
     },
     "execution_count": 77,
     "metadata": {},
     "output_type": "execute_result"
    }
   ],
   "source": [
    "dizi=np.random.randint(0, 100, size=(5, 7))\n",
    "dizi"
   ]
  },
  {
   "cell_type": "code",
   "execution_count": null,
   "id": "d5f5880f-758f-4639-800e-4b7cb908c85c",
   "metadata": {},
   "outputs": [],
   "source": []
  }
 ],
 "metadata": {
  "kernelspec": {
   "display_name": "Python 3 (ipykernel)",
   "language": "python",
   "name": "python3"
  },
  "language_info": {
   "codemirror_mode": {
    "name": "ipython",
    "version": 3
   },
   "file_extension": ".py",
   "mimetype": "text/x-python",
   "name": "python",
   "nbconvert_exporter": "python",
   "pygments_lexer": "ipython3",
   "version": "3.12.4"
  }
 },
 "nbformat": 4,
 "nbformat_minor": 5
}
